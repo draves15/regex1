{
 "cells": [
  {
   "cell_type": "code",
   "execution_count": null,
   "id": "understood-newark",
   "metadata": {},
   "outputs": [],
   "source": [
    "##Jupyter Notebook - First Application"
   ]
  },
  {
   "cell_type": "code",
   "execution_count": null,
   "id": "primary-handbook",
   "metadata": {},
   "outputs": [],
   "source": []
  },
  {
   "cell_type": "code",
   "execution_count": null,
   "id": "antique-allocation",
   "metadata": {
    "scrolled": true
   },
   "outputs": [],
   "source": [
    "library(tidyverse)\n",
    "library(ggplot2)\n",
    "library(dplyr)\n",
    "#library(SparseM)\n",
    "library(reshape2)\n",
    "#library(plotly)\n",
    "library(stringr)\n",
    "library(quantreg)"
   ]
  },
  {
   "cell_type": "code",
   "execution_count": null,
   "id": "wrapped-advice",
   "metadata": {},
   "outputs": [],
   "source": []
  },
  {
   "cell_type": "code",
   "execution_count": null,
   "id": "traditional-donna",
   "metadata": {},
   "outputs": [],
   "source": []
  },
  {
   "cell_type": "code",
   "execution_count": null,
   "id": "incomplete-elephant",
   "metadata": {},
   "outputs": [],
   "source": [
    "regrex1 <- read_csv(file=\"regrex1.csv\")\n",
    "# regrex1 <- read.csv(args[1])"
   ]
  },
  {
   "cell_type": "code",
   "execution_count": null,
   "id": "severe-restaurant",
   "metadata": {},
   "outputs": [],
   "source": []
  },
  {
   "cell_type": "code",
   "execution_count": null,
   "id": "finnish-phone",
   "metadata": {},
   "outputs": [],
   "source": [
    "png(\"draves15_regrex1.png\")"
   ]
  },
  {
   "cell_type": "code",
   "execution_count": null,
   "id": "patent-lover",
   "metadata": {},
   "outputs": [],
   "source": []
  },
  {
   "cell_type": "code",
   "execution_count": null,
   "id": "illegal-thunder",
   "metadata": {},
   "outputs": [],
   "source": [
    "ggplot(data = regrex1, aes(x=x, y=y)) +\n",
    "  geom_point() +\n",
    "  geom_smooth(color = \"purple\", level = .95) +\n",
    "  geom_line(color = \"green\") +\n",
    "  geom_quantile(color = \"red\") +\n",
    "  geom_quantile(quantiles = 0.5, color = \"black\",size=2) +\n",
    "  geom_quantile(quantiles = 1, color = \"blue\") +\n",
    "  geom_quantile(quantiles = 0, color = \"blue\")"
   ]
  },
  {
   "cell_type": "code",
   "execution_count": null,
   "id": "russian-guest",
   "metadata": {},
   "outputs": [],
   "source": []
  },
  {
   "cell_type": "code",
   "execution_count": null,
   "id": "strange-aggregate",
   "metadata": {},
   "outputs": [],
   "source": [
    "dev.off\n",
    " "
   ]
  },
  {
   "cell_type": "code",
   "execution_count": null,
   "id": "instant-friendship",
   "metadata": {},
   "outputs": [],
   "source": []
  }
 ],
 "metadata": {
  "kernelspec": {
   "display_name": "R",
   "language": "R",
   "name": "ir"
  },
  "language_info": {
   "codemirror_mode": "r",
   "file_extension": ".r",
   "mimetype": "text/x-r-source",
   "name": "R",
   "pygments_lexer": "r",
   "version": "4.0.1"
  }
 },
 "nbformat": 4,
 "nbformat_minor": 5
}
