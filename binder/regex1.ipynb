{
 "cells": [
  {
   "cell_type": "code",
   "execution_count": null,
   "id": "appreciated-archives",
   "metadata": {},
   "outputs": [],
   "source": [
    "##Jupyter Notebook - First Application"
   ]
  },
  {
   "cell_type": "code",
   "execution_count": null,
   "id": "artistic-ground",
   "metadata": {},
   "outputs": [],
   "source": []
  },
  {
   "cell_type": "code",
   "execution_count": null,
   "id": "beginning-binary",
   "metadata": {
    "scrolled": true
   },
   "outputs": [],
   "source": [
    "library(tidyverse)\n",
    "library(ggplot2)\n",
    "library(dplyr)\n",
    "#library(SparseM)\n",
    "library(reshape2)\n",
    "#library(plotly)\n",
    "library(stringr)\n",
    "library(quantreg)"
   ]
  },
  {
   "cell_type": "code",
   "execution_count": null,
   "id": "southeast-steering",
   "metadata": {},
   "outputs": [],
   "source": []
  },
  {
   "cell_type": "code",
   "execution_count": null,
   "id": "municipal-eleven",
   "metadata": {},
   "outputs": [],
   "source": []
  },
  {
   "cell_type": "code",
   "execution_count": null,
   "id": "outer-consciousness",
   "metadata": {},
   "outputs": [],
   "source": [
    "regrex1 <- read_csv(file=\"regrex1.csv\")\n",
    "# regrex1 <- read.csv(args[1])"
   ]
  },
  {
   "cell_type": "code",
   "execution_count": null,
   "id": "reliable-entrance",
   "metadata": {},
   "outputs": [],
   "source": []
  },
  {
   "cell_type": "code",
   "execution_count": null,
   "id": "olympic-white",
   "metadata": {},
   "outputs": [],
   "source": [
    "png(\"draves15_regrex1.png\")"
   ]
  },
  {
   "cell_type": "code",
   "execution_count": null,
   "id": "broke-northern",
   "metadata": {},
   "outputs": [],
   "source": []
  },
  {
   "cell_type": "code",
   "execution_count": null,
   "id": "supreme-puppy",
   "metadata": {},
   "outputs": [],
   "source": [
    "ggplot(data = regrex1, aes(x=x, y=y)) +\n",
    "  geom_point() +\n",
    "  geom_smooth(color = \"purple\", level = .95) +\n",
    "  geom_line(color = \"green\") +\n",
    "  geom_quantile(color = \"red\") +\n",
    "  geom_quantile(quantiles = 0.5, color = \"black\",size=2) +\n",
    "  geom_quantile(quantiles = 1, color = \"blue\") +\n",
    "  geom_quantile(quantiles = 0, color = \"blue\")"
   ]
  },
  {
   "cell_type": "code",
   "execution_count": null,
   "id": "vertical-carolina",
   "metadata": {},
   "outputs": [],
   "source": []
  },
  {
   "cell_type": "code",
   "execution_count": null,
   "id": "compound-fighter",
   "metadata": {},
   "outputs": [],
   "source": [
    "dev.off\n",
    " "
   ]
  },
  {
   "cell_type": "code",
   "execution_count": null,
   "id": "valued-separation",
   "metadata": {},
   "outputs": [],
   "source": []
  }
 ],
 "metadata": {
  "kernelspec": {
   "display_name": "R",
   "language": "R",
   "name": "ir"
  },
  "language_info": {
   "codemirror_mode": "r",
   "file_extension": ".r",
   "mimetype": "text/x-r-source",
   "name": "R",
   "pygments_lexer": "r",
   "version": "4.0.1"
  }
 },
 "nbformat": 4,
 "nbformat_minor": 5
}
